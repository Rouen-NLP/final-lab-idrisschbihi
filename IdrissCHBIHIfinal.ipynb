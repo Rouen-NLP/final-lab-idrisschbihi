{
 "cells": [
  {
   "cell_type": "code",
   "execution_count": 103,
   "metadata": {},
   "outputs": [],
   "source": [
    "# Importation des librairies\n",
    "import numpy as np\n",
    "import pandas as pd\n",
    "import seaborn as sns\n",
    "import matplotlib.pyplot as plt\n",
    "from sklearn.preprocessing import LabelEncoder\n",
    "import os\n",
    "import matplotlib.pyplot as plt"
   ]
  },
  {
   "cell_type": "code",
   "execution_count": 104,
   "metadata": {},
   "outputs": [
    {
     "data": {
      "text/html": [
       "<div>\n",
       "<style scoped>\n",
       "    .dataframe tbody tr th:only-of-type {\n",
       "        vertical-align: middle;\n",
       "    }\n",
       "\n",
       "    .dataframe tbody tr th {\n",
       "        vertical-align: top;\n",
       "    }\n",
       "\n",
       "    .dataframe thead th {\n",
       "        text-align: right;\n",
       "    }\n",
       "</style>\n",
       "<table border=\"1\" class=\"dataframe\">\n",
       "  <thead>\n",
       "    <tr style=\"text-align: right;\">\n",
       "      <th></th>\n",
       "      <th>img_path</th>\n",
       "      <th>label</th>\n",
       "    </tr>\n",
       "  </thead>\n",
       "  <tbody>\n",
       "    <tr>\n",
       "      <th>0</th>\n",
       "      <td>Advertisement/0000136188.jpg</td>\n",
       "      <td>Advertisement</td>\n",
       "    </tr>\n",
       "    <tr>\n",
       "      <th>1</th>\n",
       "      <td>Advertisement/0000435350.jpg</td>\n",
       "      <td>Advertisement</td>\n",
       "    </tr>\n",
       "    <tr>\n",
       "      <th>2</th>\n",
       "      <td>Advertisement/0000556056.jpg</td>\n",
       "      <td>Advertisement</td>\n",
       "    </tr>\n",
       "    <tr>\n",
       "      <th>3</th>\n",
       "      <td>Advertisement/0030048095.jpg</td>\n",
       "      <td>Advertisement</td>\n",
       "    </tr>\n",
       "    <tr>\n",
       "      <th>4</th>\n",
       "      <td>Advertisement/0030048989.jpg</td>\n",
       "      <td>Advertisement</td>\n",
       "    </tr>\n",
       "  </tbody>\n",
       "</table>\n",
       "</div>"
      ],
      "text/plain": [
       "                       img_path          label\n",
       "0  Advertisement/0000136188.jpg  Advertisement\n",
       "1  Advertisement/0000435350.jpg  Advertisement\n",
       "2  Advertisement/0000556056.jpg  Advertisement\n",
       "3  Advertisement/0030048095.jpg  Advertisement\n",
       "4  Advertisement/0030048989.jpg  Advertisement"
      ]
     },
     "execution_count": 104,
     "metadata": {},
     "output_type": "execute_result"
    }
   ],
   "source": [
    "#Chargement et visualisation des données\n",
    "data = pd.read_csv('Tobacco3482.csv')\n",
    "data.head()"
   ]
  },
  {
   "cell_type": "markdown",
   "metadata": {},
   "source": [
    "On observe la distribution des catégories :"
   ]
  },
  {
   "cell_type": "code",
   "execution_count": 110,
   "metadata": {},
   "outputs": [
    {
     "data": {
      "image/png": "[encoded data removed]",
      "text/plain": [
       "<Figure size 1008x432 with 1 Axes>"
      ]
     },
     "metadata": {
      "needs_background": "light"
     },
     "output_type": "display_data"
    }
   ],
   "source": [
    "dep = data[[\"label\",\"nb\"]].groupby(\"label\", as_index=True).sum().sort_values(\"nb\",ascending=False)\n",
    "ax = dep.plot(kind = \"bar\", figsize=(14,6))\n",
    "ax.set_xlabel(\"label\", fontsize=16)\n",
    "ax.legend().set_visible(False)  # on supprime la légende"
   ]
  },
  {
   "cell_type": "markdown",
   "metadata": {},
   "source": [
    "On remarque qu'il y a 4 catégories qui se demarquent. En effet Email,memo,Letter et Form sont clairement plus représenté que les autres catégories puisque les 3 premières culminent à a peu près 600 suivis de Form qui culmine à 450, le reste des catégories est compris entre 150 pour la plus basse (resume) et 300 pour la plus haute (report).\n",
    "Neanmoins aucune cattégorie ne peut être marginalisée puisqu'il y a quand meme une bonne representation et un nombre assez raisonnable."
   ]
  },
  {
   "cell_type": "markdown",
   "metadata": {},
   "source": [
    "## Premier algorithme Naive Bayes multinomial"
   ]
  },
  {
   "cell_type": "code",
   "execution_count": 63,
   "metadata": {},
   "outputs": [],
   "source": [
    "#On importe les librairie pour utiliser notre algorithme\n",
    "from sklearn.model_selection import train_test_split\n",
    "from sklearn.feature_extraction.text import CountVectorizer\n",
    "from sklearn.feature_extraction.text import TfidfTransformer\n",
    "from sklearn.naive_bayes import MultinomialNB"
   ]
  },
  {
   "cell_type": "code",
   "execution_count": 64,
   "metadata": {},
   "outputs": [],
   "source": [
    "list_files = []\n",
    "for root, dirs, files in os.walk(\"./data\", topdown=False):\n",
    "    for name in files:\n",
    "        if \".txt\" in os.path.join(root, name) :\n",
    "            list_files.append(os.path.join(root, name))\n",
    "list_text = []\n",
    "for file in list_files:\n",
    "    file_object = open(file,'r')\n",
    "    list_text.append(file_object.read())    \n",
    "dict_data = {}\n",
    "for i in range(len(data['img_path'])):\n",
    "    dict_data['./data/Tobacco3482-OCR/'+data['img_path'][i].replace('jpg','txt')] = data['label'][i] \n",
    "X = []\n",
    "y = []\n",
    "for i in dict_data:\n",
    "    file_object = open(i,\"r\")\n",
    "    X.append(file_object.read())\n",
    "    file_object.close()\n",
    "    y.append(dict_data[i])"
   ]
  },
  {
   "cell_type": "code",
   "execution_count": 67,
   "metadata": {},
   "outputs": [],
   "source": [
    "#On separe nos données \n",
    "x_train, x_test, y_train, y_test = train_test_split(X, y, test_size = 0.2)"
   ]
  },
  {
   "cell_type": "code",
   "execution_count": 77,
   "metadata": {},
   "outputs": [],
   "source": [
    "#On commence par appliquer le tf_idf pour maximiser la pertinance de nos résultats \n",
    "vectorizer = CountVectorizer(max_features=2000)\n",
    "vectorizer.fit(x_train)\n",
    "x_train_counts = vectorizer.transform(x_train)\n",
    "x_test_counts = vectorizer.transform(x_test)\n",
    "tf_transformer = TfidfTransformer().fit(x_train_counts)\n",
    "x_train_tf = tf_transformer.transform(x_train_counts)\n",
    "x_test_tf = tf_transformer.transform(x_test_counts)"
   ]
  },
  {
   "cell_type": "code",
   "execution_count": 78,
   "metadata": {},
   "outputs": [
    {
     "data": {
      "text/plain": [
       "MultinomialNB(alpha=1.0, class_prior=None, fit_prior=True)"
      ]
     },
     "execution_count": 78,
     "metadata": {},
     "output_type": "execute_result"
    }
   ],
   "source": [
    "#On applique le modele \n",
    "model = MultinomialNB()\n",
    "model.fit(x_train_tf, y_train)"
   ]
  },
  {
   "cell_type": "code",
   "execution_count": 79,
   "metadata": {},
   "outputs": [],
   "source": [
    "#On prédit nos résultats\n",
    "predictions = model.predict(x_test_tf)"
   ]
  },
  {
   "cell_type": "code",
   "execution_count": 80,
   "metadata": {},
   "outputs": [],
   "source": [
    "# On rajoute les librairies permettant de découvrir les résultats\n",
    "from sklearn.metrics import classification_report\n",
    "from sklearn.metrics import confusion_matrix"
   ]
  },
  {
   "cell_type": "code",
   "execution_count": 85,
   "metadata": {},
   "outputs": [
    {
     "name": "stdout",
     "output_type": "stream",
     "text": [
      "               precision    recall  f1-score   support\n",
      "\n",
      "Advertisement       0.77      0.47      0.58        43\n",
      "        Email       0.91      0.93      0.92       109\n",
      "         Form       0.70      0.82      0.75        97\n",
      "       Letter       0.60      0.76      0.67       114\n",
      "         Memo       0.50      0.84      0.62       123\n",
      "         News       0.93      0.54      0.68        48\n",
      "         Note       0.00      0.00      0.00        43\n",
      "       Report       0.83      0.10      0.18        51\n",
      "       Resume       0.97      1.00      0.98        29\n",
      "   Scientific       0.62      0.45      0.52        40\n",
      "\n",
      "  avg / total       0.67      0.67      0.64       697\n",
      "\n"
     ]
    },
    {
     "name": "stderr",
     "output_type": "stream",
     "text": [
      "/anaconda3/lib/python3.7/site-packages/sklearn/metrics/classification.py:1135: UndefinedMetricWarning: Precision and F-score are ill-defined and being set to 0.0 in labels with no predicted samples.\n",
      "  'precision', 'predicted', average, warn_for)\n"
     ]
    }
   ],
   "source": [
    "report = classification_report(y_test, predictions)\n",
    "print(report)"
   ]
  },
  {
   "cell_type": "code",
   "execution_count": 90,
   "metadata": {},
   "outputs": [
    {
     "data": {
      "text/plain": [
       "array([[ 20,   2,   7,   6,   7,   0,   0,   1,   0,   0],\n",
       "       [  0, 101,   0,   4,   4,   0,   0,   0,   0,   0],\n",
       "       [  2,   1,  80,   1,  12,   0,   0,   0,   0,   1],\n",
       "       [  0,   0,   1,  87,  25,   0,   0,   0,   0,   1],\n",
       "       [  0,   1,   5,  13, 103,   0,   0,   0,   0,   1],\n",
       "       [  2,   1,   4,   8,   6,  26,   0,   0,   0,   1],\n",
       "       [  2,   5,  13,   5,  17,   1,   0,   0,   0,   0],\n",
       "       [  0,   0,   0,  16,  21,   1,   0,   5,   1,   7],\n",
       "       [  0,   0,   0,   0,   0,   0,   0,   0,  29,   0],\n",
       "       [  0,   0,   5,   5,  12,   0,   0,   0,   0,  18]])"
      ]
     },
     "execution_count": 90,
     "metadata": {},
     "output_type": "execute_result"
    }
   ],
   "source": [
    "#La matrricede confusion est:\n",
    "mat = confusion_matrix(y_test, predictions)\n",
    "mat"
   ]
  },
  {
   "cell_type": "markdown",
   "metadata": {},
   "source": [
    "## Passons au MLP"
   ]
  },
  {
   "cell_type": "code",
   "execution_count": 95,
   "metadata": {},
   "outputs": [
    {
     "data": {
      "text/plain": [
       "MLPClassifier(activation='relu', alpha=0.0001, batch_size='auto', beta_1=0.9,\n",
       "       beta_2=0.999, early_stopping=False, epsilon=1e-08,\n",
       "       hidden_layer_sizes=(100,), learning_rate='constant',\n",
       "       learning_rate_init=0.001, max_iter=200, momentum=0.9,\n",
       "       nesterovs_momentum=True, power_t=0.5, random_state=None,\n",
       "       shuffle=True, solver='adam', tol=0.0001, validation_fraction=0.1,\n",
       "       verbose=False, warm_start=False)"
      ]
     },
     "execution_count": 95,
     "metadata": {},
     "output_type": "execute_result"
    }
   ],
   "source": [
    "from sklearn.neural_network import MLPClassifier\n",
    "model = MLPClassifier()\n",
    "model.fit(x_train_tf, y_train)\n"
   ]
  },
  {
   "cell_type": "code",
   "execution_count": 99,
   "metadata": {},
   "outputs": [
    {
     "name": "stdout",
     "output_type": "stream",
     "text": [
      "               precision    recall  f1-score   support\n",
      "\n",
      "Advertisement       0.70      0.72      0.71        43\n",
      "        Email       0.96      0.90      0.93       109\n",
      "         Form       0.85      0.85      0.85        97\n",
      "       Letter       0.77      0.76      0.77       114\n",
      "         Memo       0.70      0.80      0.75       123\n",
      "         News       0.75      0.90      0.82        48\n",
      "         Note       0.72      0.53      0.61        43\n",
      "       Report       0.46      0.37      0.41        51\n",
      "       Resume       0.97      1.00      0.98        29\n",
      "   Scientific       0.57      0.57      0.57        40\n",
      "\n",
      "  avg / total       0.76      0.77      0.76       697\n",
      "\n"
     ]
    }
   ],
   "source": [
    "predictions=model.predict(x_test_tf)\n",
    "report = classification_report(y_test, predictions)\n",
    "print(report)"
   ]
  },
  {
   "cell_type": "code",
   "execution_count": 101,
   "metadata": {},
   "outputs": [
    {
     "data": {
      "text/plain": [
       "array([[31,  0,  4,  0,  3,  1,  4,  0,  0,  0],\n",
       "       [ 0, 98,  1,  4,  3,  2,  0,  1,  0,  0],\n",
       "       [ 7,  1, 82,  0,  2,  1,  1,  3,  0,  0],\n",
       "       [ 0,  1,  1, 87, 15,  2,  0,  7,  0,  1],\n",
       "       [ 2,  1,  2, 10, 99,  1,  1,  3,  0,  4],\n",
       "       [ 0,  0,  0,  0,  2, 43,  1,  1,  0,  1],\n",
       "       [ 4,  1,  4,  1,  5,  2, 23,  1,  0,  2],\n",
       "       [ 0,  0,  2, 10,  8,  1,  1, 19,  1,  9],\n",
       "       [ 0,  0,  0,  0,  0,  0,  0,  0, 29,  0],\n",
       "       [ 0,  0,  1,  1,  4,  4,  1,  6,  0, 23]])"
      ]
     },
     "execution_count": 101,
     "metadata": {},
     "output_type": "execute_result"
    }
   ],
   "source": [
    "mat = confusion_matrix(y_test, predictions)\n",
    "mat"
   ]
  }
 ],
 "metadata": {
  "kernelspec": {
   "display_name": "Python 3",
   "language": "python",
   "name": "python3"
  },
  "language_info": {
   "codemirror_mode": {
    "name": "ipython",
    "version": 3
   },
   "file_extension": ".py",
   "mimetype": "text/x-python",
   "name": "python",
   "nbconvert_exporter": "python",
   "pygments_lexer": "ipython3",
   "version": "3.7.0"
  }
 },
 "nbformat": 4,
 "nbformat_minor": 2
}
